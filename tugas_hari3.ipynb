{
 "cells": [
  {
   "cell_type": "code",
   "execution_count": 6,
   "metadata": {},
   "outputs": [
    {
     "name": "stdout",
     "output_type": "stream",
     "text": [
      "3\n"
     ]
    }
   ],
   "source": [
    "#nomer 1\n",
    "spam = 'ababaababbbbcccbabcc'\n",
    "word = 'bab'\n",
    "count=0\n",
    "for i in range(len(spam)):\n",
    "    if spam[i:i+3]== word:\n",
    "        count+=1\n",
    "\n",
    "print(count)"
   ]
  },
  {
   "cell_type": "code",
   "execution_count": 16,
   "metadata": {},
   "outputs": [
    {
     "name": "stdout",
     "output_type": "stream",
     "text": [
      "False\n",
      "3\n",
      "2\n"
     ]
    }
   ],
   "source": [
    "#nomer2\n",
    "spam = 'oOxxX'\n",
    "count_o=0\n",
    "count_x=0\n",
    "for i in spam:\n",
    "    if \"o\"==i or \"O\"==i:\n",
    "        count_o+=1\n",
    "    if \"x\"==i or \"X\"==i:\n",
    "        count_x+=1\n",
    "if count_x==count_o:\n",
    "    print(\"True\")\n",
    "else:\n",
    "    print(\"False\")\n",
    "print(count_x)\n",
    "print(count_o)"
   ]
  },
  {
   "cell_type": "code",
   "execution_count": 24,
   "metadata": {},
   "outputs": [
    {
     "name": "stdout",
     "output_type": "stream",
     "text": [
      "153\n"
     ]
    }
   ],
   "source": [
    "#nomer3\n",
    "spam=153\n",
    "x=0\n",
    "for i in str(spam):\n",
    "    i=int(i)\n",
    "    i=i**3\n",
    "    x+=i\n",
    "print(x)\n",
    "\n"
   ]
  },
  {
   "cell_type": "code",
   "execution_count": 1,
   "metadata": {},
   "outputs": [
    {
     "name": "stdout",
     "output_type": "stream",
     "text": [
      "1 2 fizz 4 buzz fizz 7 8 fizz buzz 11 fizz 13 14 fizz buzz 16 17 fizz 19 buzz fizz 22 23 fizz buzz 26 fizz 28 29 fizz buzz 31 32 fizz 34 buzz "
     ]
    }
   ],
   "source": [
    "#nomer4\n",
    "upTo=int(input(\"masukkan angka: \"))\n",
    "\n",
    "for i in range(1,upTo):\n",
    "    if i%3==0 and i%5==0:\n",
    "        print(\"fizz buzz\", end=\" \")\n",
    "    elif i%3==0:\n",
    "        print(\"fizz\", end=\" \")\n",
    "    elif i%5==0:\n",
    "        print(\"buzz\", end=\" \")\n",
    "    else:\n",
    "        print(i, end=\" \")"
   ]
  },
  {
   "cell_type": "code",
   "execution_count": 17,
   "metadata": {},
   "outputs": [
    {
     "name": "stdout",
     "output_type": "stream",
     "text": [
      "The Fox and dog.\n"
     ]
    }
   ],
   "source": [
    "#nomer5\n",
    "text = 'The Fox and fox.'\n",
    "oldText = 'fox' \n",
    "newText = 'dog'\n",
    "\n",
    "while True:\n",
    "    if oldText in text:\n",
    "        a=text.replace(oldText,newText)\n",
    "        print(a)\n",
    "    else: \n",
    "        print(\"tidak ada kata yang diganti\")\n",
    "    break\n",
    "    "
   ]
  },
  {
   "cell_type": "code",
   "execution_count": 28,
   "metadata": {},
   "outputs": [
    {
     "name": "stdout",
     "output_type": "stream",
     "text": [
      "26 13.0 26 40.0 26 20.0 26 10.0 26 5.0 26 16.0 26 8.0 26 4.0 26 2.0 26 1.0 "
     ]
    }
   ],
   "source": [
    "#nomer 6\n",
    "n=int(input(\"masukkan angka: \"))\n",
    "c=n\n",
    "\n",
    "while n!=1:\n",
    "    if n%2==0:\n",
    "        n=n/2\n",
    "        \n",
    "    else:\n",
    "        n=n*3+1\n",
    "    print(c,n,end=\" \")\n",
    "            \n",
    "    "
   ]
  },
  {
   "cell_type": "code",
   "execution_count": 6,
   "metadata": {},
   "outputs": [
    {
     "name": "stdout",
     "output_type": "stream",
     "text": [
      "0\n",
      "1\n",
      "1\n",
      "2\n",
      "3\n",
      "5\n",
      "8\n",
      "13\n",
      "21\n",
      "34\n",
      "55\n",
      "89\n",
      "144\n",
      "233\n",
      "377\n",
      "610\n",
      "987\n",
      "1597\n",
      "2584\n",
      "4181\n",
      "6765\n",
      "10946\n",
      "17711\n",
      "28657\n",
      "46368\n",
      "75025\n",
      "121393\n",
      "196418\n"
     ]
    }
   ],
   "source": [
    "#nomor 7\n",
    "n=int(input(\"input angka ke: \"))\n",
    "x=0\n",
    "y=1\n",
    "i=0\n",
    "while i<=n:\n",
    "    if i<=1:\n",
    "        total=i\n",
    "    else:\n",
    "        total=x+y\n",
    "        x=y\n",
    "        y=total   \n",
    "    print(total)\n",
    "    i=i+1\n",
    "\n"
   ]
  },
  {
   "cell_type": "code",
   "execution_count": 27,
   "metadata": {},
   "outputs": [
    {
     "name": "stdout",
     "output_type": "stream",
     "text": [
      "Key #0: QIIX QI FC XLI VSWI FYWLIW XSRMKLX\n",
      "Key #1: PHHW PH EB WKH URVH EXVKHV WRQLJKW\n",
      "Key #2: OGGV OG DA VJG TQUG DWUJGU VQPKIJV\n",
      "Key #3: NFFU NF CZ UIF SPTF CVTIFT UPOJHIU\n",
      "Key #4: MEET ME BY THE ROSE BUSHES TONIGHT\n",
      "Key #5: LDDS LD AX SGD QNRD ATRGDR SNMHFGS\n",
      "Key #6: KCCR KC ZW RFC PMQC ZSQFCQ RMLGEFR\n",
      "Key #7: JBBQ JB YV QEB OLPB YRPEBP QLKFDEQ\n",
      "Key #8: IAAP IA XU PDA NKOA XQODAO PKJECDP\n",
      "Key #9: HZZO HZ WT OCZ MJNZ WPNCZN OJIDBCO\n",
      "Key #10: GYYN GY VS NBY LIMY VOMBYM NIHCABN\n",
      "Key #11: FXXM FX UR MAX KHLX UNLAXL MHGBZAM\n",
      "Key #12: EWWL EW TQ LZW JGKW TMKZWK LGFAYZL\n",
      "Key #13: DVVK DV SP KYV IFJV SLJYVJ KFEZXYK\n",
      "Key #14: CUUJ CU RO JXU HEIU RKIXUI JEDYWXJ\n",
      "Key #15: BTTI BT QN IWT GDHT QJHWTH IDCXVWI\n",
      "Key #16: ASSH AS PM HVS FCGS PIGVSG HCBWUVH\n",
      "Key #17: ZRRG ZR OL GUR EBFR OHFURF GBAVTUG\n",
      "Key #18: YQQF YQ NK FTQ DAEQ NGETQE FAZUSTF\n",
      "Key #19: XPPE XP MJ ESP CZDP MFDSPD EZYTRSE\n",
      "Key #20: WOOD WO LI DRO BYCO LECROC DYXSQRD\n",
      "Key #21: VNNC VN KH CQN AXBN KDBQNB CXWRPQC\n",
      "Key #22: UMMB UM JG BPM ZWAM JCAPMA BWVQOPB\n",
      "Key #23: TLLA TL IF AOL YVZL IBZOLZ AVUPNOA\n",
      "Key #24: SKKZ SK HE ZNK XUYK HAYNKY ZUTOMNZ\n",
      "Key #25: RJJY RJ GD YMJ WTXJ GZXMJX YTSNLMY\n"
     ]
    }
   ],
   "source": [
    "#nomor 8\n",
    "alpha = \"ABCDEFGHIJKLMNOPQRSTUVWXYZ\"\n",
    "str_in = input(\"Enter chipertext: \")\n",
    "\n",
    "for shift in range(26):\n",
    "    str_out = \"\"\n",
    "\n",
    "    for c in str_in:\n",
    "        if c.isalpha():\n",
    "            loc = alpha.find(c.upper())\n",
    "            newloc = (loc - shift) % 26\n",
    "            str_out += alpha[newloc] if c.isupper() else alpha[newloc].lower()\n",
    "        else:\n",
    "            str_out += c\n",
    "\n",
    "    print(f\"Key #{shift}: {str_out}\")\n"
   ]
  }
 ],
 "metadata": {
  "kernelspec": {
   "display_name": "base",
   "language": "python",
   "name": "python3"
  },
  "language_info": {
   "codemirror_mode": {
    "name": "ipython",
    "version": 3
   },
   "file_extension": ".py",
   "mimetype": "text/x-python",
   "name": "python",
   "nbconvert_exporter": "python",
   "pygments_lexer": "ipython3",
   "version": "3.11.5"
  }
 },
 "nbformat": 4,
 "nbformat_minor": 2
}
